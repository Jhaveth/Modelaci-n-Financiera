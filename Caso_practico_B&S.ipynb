{
  "nbformat": 4,
  "nbformat_minor": 0,
  "metadata": {
    "colab": {
      "provenance": [],
      "authorship_tag": "ABX9TyM5elqvkOX9VuAnrO4yKZ/8",
      "include_colab_link": true
    },
    "kernelspec": {
      "name": "python3",
      "display_name": "Python 3"
    },
    "language_info": {
      "name": "python"
    }
  },
  "cells": [
    {
      "cell_type": "markdown",
      "metadata": {
        "id": "view-in-github",
        "colab_type": "text"
      },
      "source": [
        "<a href=\"https://colab.research.google.com/github/Jhaveth/Modelaci-n-Financiera/blob/main/Caso_practico_B%26S.ipynb\" target=\"_parent\"><img src=\"https://colab.research.google.com/assets/colab-badge.svg\" alt=\"Open In Colab\"/></a>"
      ]
    },
    {
      "cell_type": "code",
      "execution_count": 7,
      "metadata": {
        "colab": {
          "base_uri": "https://localhost:8080/"
        },
        "id": "dPA3gxw96pAR",
        "outputId": "e9c25a87-0349-4efb-9ffa-94c6f838f892"
      },
      "outputs": [
        {
          "output_type": "stream",
          "name": "stdout",
          "text": [
            "La volatilidad anual es:  26.578255121690535 %\n",
            "el valor del call es:  53.604781275611344\n",
            "el valor del put es:  30.79547769973621\n"
          ]
        }
      ],
      "source": [
        "from numpy import*\n",
        "from math import log, sqrt, exp\n",
        "from scipy.stats import norm\n",
        "\n",
        "vari=[]\n",
        "valores=[463.30,527.60,501.10,492.20,522.90,588.20\n",
        "         ,623.00,620.80,660.30,567.40,582.90,570.40]\n",
        "\n",
        "for i in range(1,len(valores)):\n",
        "    x=log(valores[i]/valores[i-1])\n",
        "    vari.append(x)\n",
        "sigma= std(vari)*sqrt(12)\n",
        "so=valores[-1]\n",
        "k=580\n",
        "r= 0.115\n",
        "T= 6\n",
        "#B&S\n",
        "#Aplicando la formula de d1 y d2\n",
        "d1=(log(so/k))+(r+((sigma*2)/2))*(T/12)/sigma*sqrt(T/12)\n",
        "d2=d1-(sigma*sqrt(T/12))\n",
        "#Calculando N(d1) y N(d2)\n",
        "Nd1= norm.cdf(d1)\n",
        "Nd2= norm.cdf(d2)\n",
        "\n",
        "#Volatilidad\n",
        "print(\"La volatilidad anual es: \",sigma*100,\"%\")\n",
        "\n",
        "\n",
        "#Sustituyendo en formula de B&S\n",
        "#call\n",
        "call=so*Nd1-((k*exp(-r*T/12))*Nd2)\n",
        "print(\"el valor del call es: \", call)\n",
        "#put\n",
        "put=((k*exp(-r*T/12))*(1-Nd2))-(so*(1-Nd1))\n",
        "print(\"el valor del put es: \", put)"
      ]
    }
  ]
}